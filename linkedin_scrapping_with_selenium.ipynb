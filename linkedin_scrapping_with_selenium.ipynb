{
 "cells": [
  {
   "cell_type": "code",
   "execution_count": 1,
   "id": "8c0f38eb",
   "metadata": {},
   "outputs": [],
   "source": [
    "from selenium.webdriver.common.keys import Keys\n",
    "from selenium.webdriver.common.by import By\n",
    "from selenium.webdriver.support.ui import WebDriverWait\n",
    "from selenium.webdriver.support import expected_conditions as EC\n",
    "import undetected_chromedriver.v2 as uc\n",
    "from bs4 import BeautifulSoup\n",
    "import pandas as pd"
   ]
  },
  {
   "cell_type": "code",
   "execution_count": 8,
   "id": "059980ee",
   "metadata": {},
   "outputs": [],
   "source": [
    "driver = uc.Chrome(use_subprocess=True)\n",
    "driver.get('https://www.linkedin.com/')"
   ]
  },
  {
   "cell_type": "code",
   "execution_count": 9,
   "id": "a3e33edf",
   "metadata": {},
   "outputs": [],
   "source": [
    "while 1:\n",
    "    try:\n",
    "        people_button = WebDriverWait(driver, 5).until(EC.presence_of_element_located((By.XPATH,\"/html/body/nav/ul/li[2]/a\")))   \n",
    "        people_button.click() \n",
    "        break\n",
    "    except:\n",
    "        driver.refresh()\n",
    "        pass"
   ]
  },
  {
   "cell_type": "code",
   "execution_count": null,
   "id": "9162407c",
   "metadata": {},
   "outputs": [],
   "source": [
    "try:\n",
    "    firstname_input = WebDriverWait(driver, 10).until(EC.presence_of_element_located((By.CSS_SELECTOR,\"input[placeholder='First Name']\")))\n",
    "    lastname_input = WebDriverWait(driver, 10).until(EC.presence_of_element_located((By.CSS_SELECTOR,\"input[placeholder='Last Name']\")))\n",
    "    firstname_input.send_keys(\"Firstname\") \n",
    "    lastname_input.send_keys(\"Lastname\") \n",
    "    driver.find_element(by=By.CLASS_NAME,value=\"base-search-bar__submit-btn\").click()\n",
    "    profiles = WebDriverWait(driver,10).until(EC.presence_of_all_elements_located((By.CLASS_NAME,\"pserp-layout__profile-result-list-item\")))    \n",
    "except Exception as e:\n",
    "    print(e)\n",
    "    "
   ]
  },
  {
   "cell_type": "code",
   "execution_count": 10,
   "id": "5ad65cdb",
   "metadata": {},
   "outputs": [
    {
     "ename": "NameError",
     "evalue": "name 'profiles' is not defined",
     "output_type": "error",
     "traceback": [
      "\u001b[1;31m---------------------------------------------------------------------------\u001b[0m",
      "\u001b[1;31mNameError\u001b[0m                                 Traceback (most recent call last)",
      "Input \u001b[1;32mIn [10]\u001b[0m, in \u001b[0;36m<cell line: 1>\u001b[1;34m()\u001b[0m\n\u001b[1;32m----> 1\u001b[0m \u001b[43mprofiles\u001b[49m\n",
      "\u001b[1;31mNameError\u001b[0m: name 'profiles' is not defined"
     ]
    }
   ],
   "source": [
    "profiles"
   ]
  }
 ],
 "metadata": {
  "kernelspec": {
   "display_name": "Python 3 (ipykernel)",
   "language": "python",
   "name": "python3"
  },
  "language_info": {
   "codemirror_mode": {
    "name": "ipython",
    "version": 3
   },
   "file_extension": ".py",
   "mimetype": "text/x-python",
   "name": "python",
   "nbconvert_exporter": "python",
   "pygments_lexer": "ipython3",
   "version": "3.9.12"
  }
 },
 "nbformat": 4,
 "nbformat_minor": 5
}
